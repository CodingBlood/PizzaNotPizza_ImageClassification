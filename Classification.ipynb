{
 "cells": [
  {
   "cell_type": "code",
   "execution_count": 1,
   "outputs": [
    {
     "name": "stderr",
     "output_type": "stream",
     "text": [
      "2023-06-02 23:49:58.642695: I tensorflow/core/util/port.cc:110] oneDNN custom operations are on. You may see slightly different numerical results due to floating-point round-off errors from different computation orders. To turn them off, set the environment variable `TF_ENABLE_ONEDNN_OPTS=0`.\n",
      "2023-06-02 23:49:58.681643: I tensorflow/core/platform/cpu_feature_guard.cc:182] This TensorFlow binary is optimized to use available CPU instructions in performance-critical operations.\n",
      "To enable the following instructions: AVX2 AVX512F AVX512_VNNI FMA, in other operations, rebuild TensorFlow with the appropriate compiler flags.\n",
      "2023-06-02 23:49:59.266214: W tensorflow/compiler/tf2tensorrt/utils/py_utils.cc:38] TF-TRT Warning: Could not find TensorRT\n"
     ]
    }
   ],
   "source": [
    "import pandas as pd\n",
    "from PIL import Image\n",
    "import numpy as np\n",
    "import tensorflow as tf\n",
    "from keras.utils import plot_model\n",
    "from keras.layers import Dense,Conv2D,Flatten,BatchNormalization,Dropout,MaxPooling2D,GlobalAvgPool2D\n",
    "from keras import Model\n",
    "from keras.preprocessing.image import ImageDataGenerator\n",
    "from keras.callbacks import TensorBoard,ModelCheckpoint,EarlyStopping\n",
    "from keras.applications.inception_v3 import InceptionV3\n",
    "# from keras.applications.resnet50 import ResNet50\n",
    "from keras.optimizers import Adam\n",
    "from pathlib import Path\n",
    "import os\n",
    "from sklearn.model_selection import train_test_split\n",
    "from keras import Sequential\n",
    "import matplotlib.pyplot as plt\n",
    "np.random.seed = 32"
   ],
   "metadata": {
    "collapsed": false,
    "pycharm": {
     "name": "#%%\n"
    }
   }
  },
  {
   "cell_type": "code",
   "execution_count": 2,
   "outputs": [],
   "source": [
    "image_dir = \"./pizza_not_pizza/\""
   ],
   "metadata": {
    "collapsed": false,
    "pycharm": {
     "name": "#%%\n"
    }
   }
  },
  {
   "cell_type": "code",
   "execution_count": 3,
   "outputs": [
    {
     "data": {
      "text/plain": "                                     filename  category\n0     ./pizza_not_pizza/not_pizza/2712131.jpg         0\n1     ./pizza_not_pizza/not_pizza/3610311.jpg         0\n2     ./pizza_not_pizza/not_pizza/1118613.jpg         0\n3     ./pizza_not_pizza/not_pizza/2084262.jpg         0\n4     ./pizza_not_pizza/not_pizza/2118551.jpg         0\n...                                       ...       ...\n1961      ./pizza_not_pizza/pizza/1088332.jpg         1\n1962      ./pizza_not_pizza/pizza/2250611.jpg         1\n1963       ./pizza_not_pizza/pizza/796922.jpg         1\n1964      ./pizza_not_pizza/pizza/1593835.jpg         1\n1965       ./pizza_not_pizza/pizza/328965.jpg         1\n\n[1966 rows x 2 columns]",
      "text/html": "<div>\n<style scoped>\n    .dataframe tbody tr th:only-of-type {\n        vertical-align: middle;\n    }\n\n    .dataframe tbody tr th {\n        vertical-align: top;\n    }\n\n    .dataframe thead th {\n        text-align: right;\n    }\n</style>\n<table border=\"1\" class=\"dataframe\">\n  <thead>\n    <tr style=\"text-align: right;\">\n      <th></th>\n      <th>filename</th>\n      <th>category</th>\n    </tr>\n  </thead>\n  <tbody>\n    <tr>\n      <th>0</th>\n      <td>./pizza_not_pizza/not_pizza/2712131.jpg</td>\n      <td>0</td>\n    </tr>\n    <tr>\n      <th>1</th>\n      <td>./pizza_not_pizza/not_pizza/3610311.jpg</td>\n      <td>0</td>\n    </tr>\n    <tr>\n      <th>2</th>\n      <td>./pizza_not_pizza/not_pizza/1118613.jpg</td>\n      <td>0</td>\n    </tr>\n    <tr>\n      <th>3</th>\n      <td>./pizza_not_pizza/not_pizza/2084262.jpg</td>\n      <td>0</td>\n    </tr>\n    <tr>\n      <th>4</th>\n      <td>./pizza_not_pizza/not_pizza/2118551.jpg</td>\n      <td>0</td>\n    </tr>\n    <tr>\n      <th>...</th>\n      <td>...</td>\n      <td>...</td>\n    </tr>\n    <tr>\n      <th>1961</th>\n      <td>./pizza_not_pizza/pizza/1088332.jpg</td>\n      <td>1</td>\n    </tr>\n    <tr>\n      <th>1962</th>\n      <td>./pizza_not_pizza/pizza/2250611.jpg</td>\n      <td>1</td>\n    </tr>\n    <tr>\n      <th>1963</th>\n      <td>./pizza_not_pizza/pizza/796922.jpg</td>\n      <td>1</td>\n    </tr>\n    <tr>\n      <th>1964</th>\n      <td>./pizza_not_pizza/pizza/1593835.jpg</td>\n      <td>1</td>\n    </tr>\n    <tr>\n      <th>1965</th>\n      <td>./pizza_not_pizza/pizza/328965.jpg</td>\n      <td>1</td>\n    </tr>\n  </tbody>\n</table>\n<p>1966 rows × 2 columns</p>\n</div>"
     },
     "execution_count": 3,
     "metadata": {},
     "output_type": "execute_result"
    }
   ],
   "source": [
    "not_pizza = [(os.path.join(image_dir,\"not_pizza\",image),0) for image in os.listdir(os.path.join(image_dir,\"not_pizza\")) if image.split(\".\")[1] == \"jpg\"]\n",
    "pizza = [(os.path.join(image_dir,\"pizza\",image),1) for image in os.listdir(os.path.join(image_dir,\"pizza\")) if image.split(\".\")[1] == \"jpg\"]\n",
    "\n",
    "df = pd.DataFrame(not_pizza+pizza,columns=['filename','category'])\n",
    "df"
   ],
   "metadata": {
    "collapsed": false,
    "pycharm": {
     "name": "#%%\n"
    }
   }
  },
  {
   "cell_type": "code",
   "execution_count": 4,
   "outputs": [],
   "source": [
    "import cv2\n",
    "img = cv2.imread(df['filename'][100])\n",
    "cv2.imshow('path',img)\n",
    "cv2.waitKey(0)\n",
    "cv2.destroyAllWindows()"
   ],
   "metadata": {
    "collapsed": false,
    "pycharm": {
     "name": "#%%\n"
    }
   }
  },
  {
   "cell_type": "code",
   "execution_count": 5,
   "outputs": [
    {
     "data": {
      "text/plain": "filename    983\ncategory    983\ndtype: int64"
     },
     "execution_count": 5,
     "metadata": {},
     "output_type": "execute_result"
    }
   ],
   "source": [
    "df[df['category']==0].count()"
   ],
   "metadata": {
    "collapsed": false,
    "pycharm": {
     "name": "#%%\n"
    }
   }
  },
  {
   "cell_type": "code",
   "execution_count": 6,
   "outputs": [
    {
     "data": {
      "text/plain": "filename    983\ncategory    983\ndtype: int64"
     },
     "execution_count": 6,
     "metadata": {},
     "output_type": "execute_result"
    }
   ],
   "source": [
    "df[df['category']==1].count()"
   ],
   "metadata": {
    "collapsed": false,
    "pycharm": {
     "name": "#%%\n"
    }
   }
  },
  {
   "cell_type": "code",
   "execution_count": 7,
   "outputs": [
    {
     "data": {
      "text/plain": "      index                                 filename  category\n0      1561       ./pizza_not_pizza/pizza/724290.jpg         1\n1      1440       ./pizza_not_pizza/pizza/203831.jpg         1\n2      1250      ./pizza_not_pizza/pizza/3443136.jpg         1\n3      1818      ./pizza_not_pizza/pizza/3185774.jpg         1\n4      1270      ./pizza_not_pizza/pizza/3478964.jpg         1\n...     ...                                      ...       ...\n1961    716  ./pizza_not_pizza/not_pizza/3290376.jpg         0\n1962    158  ./pizza_not_pizza/not_pizza/3372205.jpg         0\n1963    761  ./pizza_not_pizza/not_pizza/2527642.jpg         0\n1964    415  ./pizza_not_pizza/not_pizza/2848506.jpg         0\n1965   1196      ./pizza_not_pizza/pizza/1535273.jpg         1\n\n[1966 rows x 3 columns]",
      "text/html": "<div>\n<style scoped>\n    .dataframe tbody tr th:only-of-type {\n        vertical-align: middle;\n    }\n\n    .dataframe tbody tr th {\n        vertical-align: top;\n    }\n\n    .dataframe thead th {\n        text-align: right;\n    }\n</style>\n<table border=\"1\" class=\"dataframe\">\n  <thead>\n    <tr style=\"text-align: right;\">\n      <th></th>\n      <th>index</th>\n      <th>filename</th>\n      <th>category</th>\n    </tr>\n  </thead>\n  <tbody>\n    <tr>\n      <th>0</th>\n      <td>1561</td>\n      <td>./pizza_not_pizza/pizza/724290.jpg</td>\n      <td>1</td>\n    </tr>\n    <tr>\n      <th>1</th>\n      <td>1440</td>\n      <td>./pizza_not_pizza/pizza/203831.jpg</td>\n      <td>1</td>\n    </tr>\n    <tr>\n      <th>2</th>\n      <td>1250</td>\n      <td>./pizza_not_pizza/pizza/3443136.jpg</td>\n      <td>1</td>\n    </tr>\n    <tr>\n      <th>3</th>\n      <td>1818</td>\n      <td>./pizza_not_pizza/pizza/3185774.jpg</td>\n      <td>1</td>\n    </tr>\n    <tr>\n      <th>4</th>\n      <td>1270</td>\n      <td>./pizza_not_pizza/pizza/3478964.jpg</td>\n      <td>1</td>\n    </tr>\n    <tr>\n      <th>...</th>\n      <td>...</td>\n      <td>...</td>\n      <td>...</td>\n    </tr>\n    <tr>\n      <th>1961</th>\n      <td>716</td>\n      <td>./pizza_not_pizza/not_pizza/3290376.jpg</td>\n      <td>0</td>\n    </tr>\n    <tr>\n      <th>1962</th>\n      <td>158</td>\n      <td>./pizza_not_pizza/not_pizza/3372205.jpg</td>\n      <td>0</td>\n    </tr>\n    <tr>\n      <th>1963</th>\n      <td>761</td>\n      <td>./pizza_not_pizza/not_pizza/2527642.jpg</td>\n      <td>0</td>\n    </tr>\n    <tr>\n      <th>1964</th>\n      <td>415</td>\n      <td>./pizza_not_pizza/not_pizza/2848506.jpg</td>\n      <td>0</td>\n    </tr>\n    <tr>\n      <th>1965</th>\n      <td>1196</td>\n      <td>./pizza_not_pizza/pizza/1535273.jpg</td>\n      <td>1</td>\n    </tr>\n  </tbody>\n</table>\n<p>1966 rows × 3 columns</p>\n</div>"
     },
     "execution_count": 7,
     "metadata": {},
     "output_type": "execute_result"
    }
   ],
   "source": [
    "df= df.sample(frac = 1)\n",
    "df=df.reset_index()\n",
    "df"
   ],
   "metadata": {
    "collapsed": false,
    "pycharm": {
     "name": "#%%\n"
    }
   }
  },
  {
   "cell_type": "code",
   "execution_count": 13,
   "outputs": [],
   "source": [
    "df = df.drop(columns='index')"
   ],
   "metadata": {
    "collapsed": false,
    "pycharm": {
     "name": "#%%\n"
    }
   }
  },
  {
   "cell_type": "code",
   "execution_count": 14,
   "outputs": [
    {
     "data": {
      "text/plain": "                                     filename  category\n0          ./pizza_not_pizza/pizza/724290.jpg         1\n1          ./pizza_not_pizza/pizza/203831.jpg         1\n2         ./pizza_not_pizza/pizza/3443136.jpg         1\n3         ./pizza_not_pizza/pizza/3185774.jpg         1\n4         ./pizza_not_pizza/pizza/3478964.jpg         1\n...                                       ...       ...\n1961  ./pizza_not_pizza/not_pizza/3290376.jpg         0\n1962  ./pizza_not_pizza/not_pizza/3372205.jpg         0\n1963  ./pizza_not_pizza/not_pizza/2527642.jpg         0\n1964  ./pizza_not_pizza/not_pizza/2848506.jpg         0\n1965      ./pizza_not_pizza/pizza/1535273.jpg         1\n\n[1966 rows x 2 columns]",
      "text/html": "<div>\n<style scoped>\n    .dataframe tbody tr th:only-of-type {\n        vertical-align: middle;\n    }\n\n    .dataframe tbody tr th {\n        vertical-align: top;\n    }\n\n    .dataframe thead th {\n        text-align: right;\n    }\n</style>\n<table border=\"1\" class=\"dataframe\">\n  <thead>\n    <tr style=\"text-align: right;\">\n      <th></th>\n      <th>filename</th>\n      <th>category</th>\n    </tr>\n  </thead>\n  <tbody>\n    <tr>\n      <th>0</th>\n      <td>./pizza_not_pizza/pizza/724290.jpg</td>\n      <td>1</td>\n    </tr>\n    <tr>\n      <th>1</th>\n      <td>./pizza_not_pizza/pizza/203831.jpg</td>\n      <td>1</td>\n    </tr>\n    <tr>\n      <th>2</th>\n      <td>./pizza_not_pizza/pizza/3443136.jpg</td>\n      <td>1</td>\n    </tr>\n    <tr>\n      <th>3</th>\n      <td>./pizza_not_pizza/pizza/3185774.jpg</td>\n      <td>1</td>\n    </tr>\n    <tr>\n      <th>4</th>\n      <td>./pizza_not_pizza/pizza/3478964.jpg</td>\n      <td>1</td>\n    </tr>\n    <tr>\n      <th>...</th>\n      <td>...</td>\n      <td>...</td>\n    </tr>\n    <tr>\n      <th>1961</th>\n      <td>./pizza_not_pizza/not_pizza/3290376.jpg</td>\n      <td>0</td>\n    </tr>\n    <tr>\n      <th>1962</th>\n      <td>./pizza_not_pizza/not_pizza/3372205.jpg</td>\n      <td>0</td>\n    </tr>\n    <tr>\n      <th>1963</th>\n      <td>./pizza_not_pizza/not_pizza/2527642.jpg</td>\n      <td>0</td>\n    </tr>\n    <tr>\n      <th>1964</th>\n      <td>./pizza_not_pizza/not_pizza/2848506.jpg</td>\n      <td>0</td>\n    </tr>\n    <tr>\n      <th>1965</th>\n      <td>./pizza_not_pizza/pizza/1535273.jpg</td>\n      <td>1</td>\n    </tr>\n  </tbody>\n</table>\n<p>1966 rows × 2 columns</p>\n</div>"
     },
     "execution_count": 14,
     "metadata": {},
     "output_type": "execute_result"
    }
   ],
   "source": [
    "df"
   ],
   "metadata": {
    "collapsed": false,
    "pycharm": {
     "name": "#%%\n"
    }
   }
  }
 ],
 "metadata": {
  "kernelspec": {
   "display_name": "Python 3",
   "language": "python",
   "name": "python3"
  },
  "language_info": {
   "codemirror_mode": {
    "name": "ipython",
    "version": 2
   },
   "file_extension": ".py",
   "mimetype": "text/x-python",
   "name": "python",
   "nbconvert_exporter": "python",
   "pygments_lexer": "ipython2",
   "version": "2.7.6"
  }
 },
 "nbformat": 4,
 "nbformat_minor": 0
}